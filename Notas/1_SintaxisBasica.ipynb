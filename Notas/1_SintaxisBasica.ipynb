{
 "cells": [
  {
   "cell_type": "markdown",
   "metadata": {},
   "source": [
    "----\n",
    "# **Curso de Programación Avanzada (Notas)**\n",
    "----\n",
    "#### Alumno: Francisco Martínez Rivas\n",
    "#### Docente:  Luis Felipe de Jesús Hernández Quintanar\n",
    "----\n",
    "\n",
    "## Prueba XD"
   ]
  },
  {
   "cell_type": "code",
   "execution_count": 3,
   "metadata": {},
   "outputs": [
    {
     "name": "stdout",
     "output_type": "stream",
     "text": [
      "hola amigo, esto es una prueba de jupyter... no te espantes\n",
      "oa \n",
      "oa \n",
      "oa \n",
      "\n"
     ]
    }
   ],
   "source": [
    "print('hola amigo, esto es una prueba de jupyter... no te espantes')\n",
    "print(3*('oa \\n'))"
   ]
  },
  {
   "cell_type": "markdown",
   "metadata": {},
   "source": [
    "## Tipos de Datos\n",
    "\n",
    "```python\n",
    "enteros = 5\n",
    "flotante = 3.1415926539\n",
    "cadena = \"Este es el Python\"\n",
    "booleana = True\n",
    "complejo = 3 + 4j\n",
    "```\n",
    "\n",
    "Podemos hacer la asignacion de variables iguales o tambien podemos hacer la asignacion multiple de variables\n",
    "```python\n",
    "# Asignación múltiple de variables\n",
    "x, y, z = 1, 2, 3\n",
    "\n",
    "# Asignación de variables iguales\n",
    "x = y = z = \"Naranja\"\n",
    "```\n",
    "\n",
    "## Entrada de datos\n",
    "se utiliza la función input()\n",
    "para poder \"forzar\" a la variable a tomar algún datos entonces se usa un especie de \"cast\"\n",
    "(int)variable\n",
    "\n",
    "```python\n",
    "variable = input(\"Aquí va un bonito mensaje: \")\n",
    "variableEntera = int(input(\"Ingresa un valor entero: \"))\n",
    "variableFlotante = float(input(\"Ingresa un valor flotante: \"))\n",
    "```\n",
    "\n",
    "## Salida de datos y concatenación\n",
    "Utilizar la función print()\n",
    "`print(\"Esta es una salida de datos\")`\n",
    "\n",
    "Para mostrar variables\n",
    "`entero = 5`\n",
    "`print(entero)`\n",
    "\n",
    "Sin embargo si se desea mostrar variables junto con cadenas de texto\n",
    "existen varias formas:\n",
    "```python\n",
    "# 1.-Concatenar cadenas de texto\n",
    "# Utilizar el \"cast\" str() para convertir el valor a texto\n",
    "print(\"Valor entero: \" + str(entero))\n",
    "\n",
    "# 2.-Usar identificadores como en C\n",
    "print(\"Un valor flotante %.3f\" %flotante)\n",
    "\n",
    "# 3.-Utilizar el método format() para cadenas\n",
    "# Los números seguidos de :, indican el número de casillas\n",
    "# que serán asignadas para cada número (esto es muy útil para tablas)\n",
    "print(\"Un valor entero {:4}, un valor flotante {:4.3}\".format(enteros, flotante))\n",
    "```\n",
    "\n",
    "## Operaciones\n",
    "### Aritemticas\n",
    " +\t\tsuma\n",
    " -\t\tresta\n",
    " *\t\tmultiplicación\n",
    " /\t\tdivisión flotante\n",
    " %\t\tmódulo\n",
    " **\t\texponente\n",
    " //\t\tdivisión entera\n",
    "### Nivel de bits\n",
    " &\t\tAND\n",
    " |\t\tOR\n",
    " ~\t\tNOT\n",
    " ^\t\tXOR\n",
    " >>\t\tDesplazamiento bits a la derecha\n",
    " <<\t\tDesplazamiento bits a la izquierda\n",
    "### Logicas\n",
    " and\ty\n",
    " or\t\to\n",
    " not\tno \n",
    "\n",
    " ```python\n",
    " # Las divisiones en Python son de dos tipos:\n",
    "# Divisiones decimales (\"normales\")}\n",
    "print(9 / 6)\n",
    "# O divisiones enteras, en donde solo se obtiene el número entero\n",
    "# del cociente\n",
    "print(9 // 6)\n",
    "# Junto con su módulo o residuo\n",
    "print(9 % 6)\n",
    "\n",
    "#%%\n",
    "# Las operaciones a nivel de bits son las operaciones más rápidas\n",
    "# que se pueden efectuar en la ALU\n",
    "# Permiten realizar operaciones lógicas a nivel de bits\n",
    "# Suponiendo 9 = 1001\n",
    "# \t\t\t12 = 1100\n",
    "# Operación and\n",
    "print(9 & 12)\t# = 8  = 1000\n",
    "print(9 | 12)\t# = 13 = 1101\n",
    "print(9 ^ 12)\t# = 5  = 0101\n",
    "print(9 >> 2)\t# desplazando 2 bits, queda 00000010 = 2\n",
    "print(9 << 2)\t# desplazando 2 bits, queda 00100100 = 36\n",
    " ```"
   ]
  }
 ],
 "metadata": {
  "interpreter": {
   "hash": "f75cff919ba31a25e32411d9cf9e1dd972dd57df68eb2b8a6303fde5963f1063"
  },
  "kernelspec": {
   "display_name": "Python 3.9.6 64-bit",
   "language": "python",
   "name": "python3"
  },
  "language_info": {
   "codemirror_mode": {
    "name": "ipython",
    "version": 3
   },
   "file_extension": ".py",
   "mimetype": "text/x-python",
   "name": "python",
   "nbconvert_exporter": "python",
   "pygments_lexer": "ipython3",
   "version": "3.9.6"
  },
  "orig_nbformat": 4
 },
 "nbformat": 4,
 "nbformat_minor": 2
}
