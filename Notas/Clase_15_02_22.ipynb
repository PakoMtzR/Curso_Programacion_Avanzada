{
 "cells": [
  {
   "cell_type": "code",
   "execution_count": 4,
   "metadata": {},
   "outputs": [
    {
     "name": "stdout",
     "output_type": "stream",
     "text": [
      "1 oa \n",
      "2 oa \n",
      "3 oa \n",
      "4 oa \n",
      "5 oa \n"
     ]
    }
   ],
   "source": [
    "A = [1, 2, 3, 4, 5]\n",
    "\n",
    "#print(A[1])\n",
    "\n",
    "for i in A:\n",
    "    print(i, end = ' oa \\n')"
   ]
  },
  {
   "cell_type": "code",
   "execution_count": 6,
   "metadata": {},
   "outputs": [
    {
     "name": "stdout",
     "output_type": "stream",
     "text": [
      "1, 3, 5, 7, 9, "
     ]
    }
   ],
   "source": [
    "# (u, v, w)\n",
    "# u --> valor inicial\n",
    "# v --> valor final\n",
    "# w --> paso\n",
    "\n",
    "for i in range(1, 10, 2):\n",
    "    print(i, end = ', ')"
   ]
  },
  {
   "cell_type": "code",
   "execution_count": 16,
   "metadata": {},
   "outputs": [
    {
     "name": "stdout",
     "output_type": "stream",
     "text": [
      "[0, 3, 6, 9, 12, 15, 18, 21, 24, 27, 30, 33, 36, 39, 42, 45, 48, 51, 54, 57, 60, 63, 66, 69, 72, 75, 78, 81, 84, 87, 90, 93, 96, 99]\n"
     ]
    },
    {
     "data": {
      "text/plain": [
       "'\\nC = B\\nC = B.copy()\\n\\nprint(C)\\n\\nC = [1, 2, 3]\\n\\nprint(C)\\nprint(B)\\n'"
      ]
     },
     "execution_count": 16,
     "metadata": {},
     "output_type": "execute_result"
    }
   ],
   "source": [
    "B = []\n",
    "\n",
    "# Generar una lista del 1 al 100 (tocando al 100) en multiplos de 3:\n",
    "for i in range(0, (100 + 1), 3):\n",
    "    B.append(i)\n",
    "\n",
    "print(B)\n",
    "'''\n",
    "C = B\n",
    "C = B.copy()\n",
    "\n",
    "print(C)\n",
    "\n",
    "C = [1, 2, 3]\n",
    "\n",
    "print(C)\n",
    "print(B)\n",
    "'''"
   ]
  },
  {
   "cell_type": "code",
   "execution_count": 25,
   "metadata": {},
   "outputs": [
    {
     "name": "stdout",
     "output_type": "stream",
     "text": [
      "[0, 3, 6, 9, 12, 15, 18, 21, 24, 27, 30, 33, 36, 39, 42, 45, 48, 51, 54, 57, 60, 63, 66, 69, 72, 75, 78, 81, 84, 87, 90, 93, 96, 99]\n"
     ]
    }
   ],
   "source": [
    "A = list(range(0, (100 + 1), 3))\n",
    "print(A)"
   ]
  },
  {
   "cell_type": "code",
   "execution_count": 21,
   "metadata": {},
   "outputs": [
    {
     "name": "stdout",
     "output_type": "stream",
     "text": [
      "[0, 3, 6, 9, 12, 15, 18, 21, 24, 27, 30, 33, 36, 39, 42, 45, 48, 51, 54, 57, 60, 63, 66, 69, 72, 75, 78, 81, 84, 87, 90, 93, 96, 99]\n"
     ]
    }
   ],
   "source": [
    "A = [i for i in range(0, (100 + 1), 3)]\n",
    "print(A)"
   ]
  },
  {
   "cell_type": "code",
   "execution_count": 19,
   "metadata": {},
   "outputs": [
    {
     "name": "stdout",
     "output_type": "stream",
     "text": [
      "[0, 3, 6, 9, 12, 15, 18, 21, 24, 27, 30, 33, 36, 39, 42, 45, 48, 51, 54, 57, 60, 63, 66, 69, 72, 75, 78, 81, 84, 87, 90, 93, 96, 99]\n"
     ]
    }
   ],
   "source": [
    "A = [i for i in range(101) if i % 3 == 0]\n",
    "print(A)"
   ]
  },
  {
   "cell_type": "code",
   "execution_count": 9,
   "metadata": {},
   "outputs": [
    {
     "name": "stdout",
     "output_type": "stream",
     "text": [
      "['P', 'a', 'k', 'o', ' ', 'M', 'a', 'r', 't', 'i', 'n', 'e', 'z']\n"
     ]
    }
   ],
   "source": [
    "miNombre = [i for i in 'Pako Martinez']\n",
    "print(miNombre)"
   ]
  },
  {
   "cell_type": "code",
   "execution_count": 10,
   "metadata": {},
   "outputs": [
    {
     "name": "stdout",
     "output_type": "stream",
     "text": [
      "0 --> P\n",
      "1 --> a\n",
      "2 --> k\n",
      "3 --> o\n",
      "4 -->  \n",
      "5 --> M\n",
      "6 --> a\n",
      "7 --> r\n",
      "8 --> t\n",
      "9 --> i\n",
      "10 --> n\n",
      "11 --> e\n",
      "12 --> z\n"
     ]
    }
   ],
   "source": [
    "for i, val in enumerate('Pako Martinez'):\n",
    "    print(f'{i} --> {val}')"
   ]
  },
  {
   "cell_type": "code",
   "execution_count": 13,
   "metadata": {},
   "outputs": [
    {
     "name": "stdout",
     "output_type": "stream",
     "text": [
      "['a', 'o', 'M', 'r', 'i', 'e']\n",
      "['P', 'k', ' ', 'a', 't', 'n', 'z']\n"
     ]
    }
   ],
   "source": [
    "miNombre_pares = [val for i, val in enumerate('Pako Martinez') if i%2 != 0]\n",
    "miNombre_nones = [val for i, val in enumerate('Pako Martinez') if i%2 == 0]\n",
    "print(miNombre_pares)\n",
    "print(miNombre_nones)"
   ]
  },
  {
   "cell_type": "code",
   "execution_count": 17,
   "metadata": {},
   "outputs": [
    {
     "name": "stdout",
     "output_type": "stream",
     "text": [
      "<class 'list'>\n",
      "3\n"
     ]
    }
   ],
   "source": [
    "matrix = [[1, 2, 3], [4, 5, 6], [7, 8, 9]]\n",
    "\n",
    "print(type(matrix))\n",
    "print(len(matrix))\n"
   ]
  },
  {
   "cell_type": "code",
   "execution_count": 18,
   "metadata": {},
   "outputs": [
    {
     "name": "stdout",
     "output_type": "stream",
     "text": [
      "[[1, 4], [2, 5], [3, 6], [4, 8]]\n"
     ]
    }
   ],
   "source": [
    "transposed = []\n",
    "matrix = [[1,2,3,4], [4,5,6,8]]\n",
    "\n",
    "for i in range(len(matrix[0])):\n",
    "    transposed_row = []\n",
    "\n",
    "    for row in matrix:\n",
    "        transposed_row.append(row[i])\n",
    "    transposed.append(transposed_row)\n",
    "\n",
    "print(transposed)"
   ]
  }
 ],
 "metadata": {
  "interpreter": {
   "hash": "f75cff919ba31a25e32411d9cf9e1dd972dd57df68eb2b8a6303fde5963f1063"
  },
  "kernelspec": {
   "display_name": "Python 3.9.6 64-bit",
   "language": "python",
   "name": "python3"
  },
  "language_info": {
   "codemirror_mode": {
    "name": "ipython",
    "version": 3
   },
   "file_extension": ".py",
   "mimetype": "text/x-python",
   "name": "python",
   "nbconvert_exporter": "python",
   "pygments_lexer": "ipython3",
   "version": "3.9.6"
  },
  "orig_nbformat": 4
 },
 "nbformat": 4,
 "nbformat_minor": 2
}
